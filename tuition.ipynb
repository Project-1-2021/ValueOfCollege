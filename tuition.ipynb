{
 "cells": [
  {
   "cell_type": "code",
   "execution_count": 15,
   "metadata": {},
   "outputs": [],
   "source": [
    "# Import modules\n",
    "import pandas as pd\n",
    "import matplotlib.pyplot as plt\n",
    "import os"
   ]
  },
  {
   "cell_type": "code",
   "execution_count": 2,
   "metadata": {},
   "outputs": [],
   "source": [
    "# Name of the CSV file and read in to DataFrame\n",
    "file = 'Clean_Data/Clean_Schools.csv'\n",
    "df = pd.read_csv(file, encoding=\"ISO-8859-1\")"
   ]
  },
  {
   "cell_type": "code",
   "execution_count": 3,
   "metadata": {},
   "outputs": [
    {
     "data": {
      "text/html": [
       "<div>\n",
       "<style scoped>\n",
       "    .dataframe tbody tr th:only-of-type {\n",
       "        vertical-align: middle;\n",
       "    }\n",
       "\n",
       "    .dataframe tbody tr th {\n",
       "        vertical-align: top;\n",
       "    }\n",
       "\n",
       "    .dataframe thead th {\n",
       "        text-align: right;\n",
       "    }\n",
       "</style>\n",
       "<table border=\"1\" class=\"dataframe\">\n",
       "  <thead>\n",
       "    <tr style=\"text-align: right;\">\n",
       "      <th></th>\n",
       "      <th>Unnamed: 0</th>\n",
       "      <th>School Name</th>\n",
       "      <th>School State</th>\n",
       "      <th>Degree Type</th>\n",
       "      <th>Program Cost</th>\n",
       "      <th>Annual Cost</th>\n",
       "      <th>Total Cost</th>\n",
       "    </tr>\n",
       "  </thead>\n",
       "  <tbody>\n",
       "    <tr>\n",
       "      <th>0</th>\n",
       "      <td>449506</td>\n",
       "      <td>SABER College</td>\n",
       "      <td>FL</td>\n",
       "      <td>2</td>\n",
       "      <td>19233.0</td>\n",
       "      <td>NaN</td>\n",
       "      <td>19233</td>\n",
       "    </tr>\n",
       "    <tr>\n",
       "      <th>1</th>\n",
       "      <td>459310</td>\n",
       "      <td>Future-Tech Institute</td>\n",
       "      <td>FL</td>\n",
       "      <td>1</td>\n",
       "      <td>NaN</td>\n",
       "      <td>11429.0</td>\n",
       "      <td>11429</td>\n",
       "    </tr>\n",
       "    <tr>\n",
       "      <th>2</th>\n",
       "      <td>459329</td>\n",
       "      <td>Fred K Marchman Technical College</td>\n",
       "      <td>FL</td>\n",
       "      <td>1</td>\n",
       "      <td>8557.0</td>\n",
       "      <td>NaN</td>\n",
       "      <td>8557</td>\n",
       "    </tr>\n",
       "    <tr>\n",
       "      <th>3</th>\n",
       "      <td>482459</td>\n",
       "      <td>DeVry University-Florida</td>\n",
       "      <td>FL</td>\n",
       "      <td>3</td>\n",
       "      <td>NaN</td>\n",
       "      <td>31391.0</td>\n",
       "      <td>125564</td>\n",
       "    </tr>\n",
       "    <tr>\n",
       "      <th>4</th>\n",
       "      <td>487393</td>\n",
       "      <td>Florida Career College-West Palm Beach</td>\n",
       "      <td>FL</td>\n",
       "      <td>1</td>\n",
       "      <td>34445.0</td>\n",
       "      <td>NaN</td>\n",
       "      <td>34445</td>\n",
       "    </tr>\n",
       "  </tbody>\n",
       "</table>\n",
       "</div>"
      ],
      "text/plain": [
       "   Unnamed: 0                             School Name School State  \\\n",
       "0      449506                           SABER College           FL   \n",
       "1      459310                   Future-Tech Institute           FL   \n",
       "2      459329       Fred K Marchman Technical College           FL   \n",
       "3      482459                DeVry University-Florida           FL   \n",
       "4      487393  Florida Career College-West Palm Beach           FL   \n",
       "\n",
       "   Degree Type  Program Cost  Annual Cost  Total Cost  \n",
       "0            2       19233.0          NaN       19233  \n",
       "1            1           NaN      11429.0       11429  \n",
       "2            1        8557.0          NaN        8557  \n",
       "3            3           NaN      31391.0      125564  \n",
       "4            1       34445.0          NaN       34445  "
      ]
     },
     "execution_count": 3,
     "metadata": {},
     "output_type": "execute_result"
    }
   ],
   "source": [
    "# preview df\n",
    "df.head()"
   ]
  },
  {
   "cell_type": "code",
   "execution_count": 76,
   "metadata": {},
   "outputs": [
    {
     "data": {
      "text/html": [
       "<div>\n",
       "<style scoped>\n",
       "    .dataframe tbody tr th:only-of-type {\n",
       "        vertical-align: middle;\n",
       "    }\n",
       "\n",
       "    .dataframe tbody tr th {\n",
       "        vertical-align: top;\n",
       "    }\n",
       "\n",
       "    .dataframe thead th {\n",
       "        text-align: right;\n",
       "    }\n",
       "</style>\n",
       "<table border=\"1\" class=\"dataframe\">\n",
       "  <thead>\n",
       "    <tr style=\"text-align: right;\">\n",
       "      <th></th>\n",
       "      <th>School ID</th>\n",
       "      <th>School Name</th>\n",
       "      <th>School State</th>\n",
       "      <th>Degree Desc</th>\n",
       "      <th>Degree Type</th>\n",
       "      <th>Program Cost</th>\n",
       "      <th>Annual Cost</th>\n",
       "      <th>Total Cost</th>\n",
       "      <th>Degree Name</th>\n",
       "    </tr>\n",
       "  </thead>\n",
       "  <tbody>\n",
       "    <tr>\n",
       "      <th>0</th>\n",
       "      <td>449506</td>\n",
       "      <td>SABER College</td>\n",
       "      <td>FL</td>\n",
       "      <td></td>\n",
       "      <td>2</td>\n",
       "      <td>19233.0</td>\n",
       "      <td>NaN</td>\n",
       "      <td>19233</td>\n",
       "      <td></td>\n",
       "    </tr>\n",
       "    <tr>\n",
       "      <th>1</th>\n",
       "      <td>459310</td>\n",
       "      <td>Future-Tech Institute</td>\n",
       "      <td>FL</td>\n",
       "      <td></td>\n",
       "      <td>1</td>\n",
       "      <td>NaN</td>\n",
       "      <td>11429.0</td>\n",
       "      <td>11429</td>\n",
       "      <td></td>\n",
       "    </tr>\n",
       "    <tr>\n",
       "      <th>2</th>\n",
       "      <td>459329</td>\n",
       "      <td>Fred K Marchman Technical College</td>\n",
       "      <td>FL</td>\n",
       "      <td></td>\n",
       "      <td>1</td>\n",
       "      <td>8557.0</td>\n",
       "      <td>NaN</td>\n",
       "      <td>8557</td>\n",
       "      <td></td>\n",
       "    </tr>\n",
       "    <tr>\n",
       "      <th>3</th>\n",
       "      <td>482459</td>\n",
       "      <td>DeVry University-Florida</td>\n",
       "      <td>FL</td>\n",
       "      <td></td>\n",
       "      <td>3</td>\n",
       "      <td>NaN</td>\n",
       "      <td>31391.0</td>\n",
       "      <td>125564</td>\n",
       "      <td></td>\n",
       "    </tr>\n",
       "    <tr>\n",
       "      <th>4</th>\n",
       "      <td>487393</td>\n",
       "      <td>Florida Career College-West Palm Beach</td>\n",
       "      <td>FL</td>\n",
       "      <td></td>\n",
       "      <td>1</td>\n",
       "      <td>34445.0</td>\n",
       "      <td>NaN</td>\n",
       "      <td>34445</td>\n",
       "      <td></td>\n",
       "    </tr>\n",
       "  </tbody>\n",
       "</table>\n",
       "</div>"
      ],
      "text/plain": [
       "   School ID                             School Name School State Degree Desc  \\\n",
       "0     449506                           SABER College           FL               \n",
       "1     459310                   Future-Tech Institute           FL               \n",
       "2     459329       Fred K Marchman Technical College           FL               \n",
       "3     482459                DeVry University-Florida           FL               \n",
       "4     487393  Florida Career College-West Palm Beach           FL               \n",
       "\n",
       "   Degree Type  Program Cost  Annual Cost  Total Cost Degree Name  \n",
       "0            2       19233.0          NaN       19233              \n",
       "1            1           NaN      11429.0       11429              \n",
       "2            1        8557.0          NaN        8557              \n",
       "3            3           NaN      31391.0      125564              \n",
       "4            1       34445.0          NaN       34445              "
      ]
     },
     "execution_count": 76,
     "metadata": {},
     "output_type": "execute_result"
    }
   ],
   "source": [
    "df.insert(3,'Degree Desc','')\n",
    "df.head()"
   ]
  },
  {
   "cell_type": "code",
   "execution_count": 85,
   "metadata": {},
   "outputs": [
    {
     "name": "stderr",
     "output_type": "stream",
     "text": [
      "/Users/Howard/opt/anaconda3/envs/PythonData/lib/python3.6/site-packages/ipykernel_launcher.py:9: SettingWithCopyWarning: \n",
      "A value is trying to be set on a copy of a slice from a DataFrame\n",
      "\n",
      "See the caveats in the documentation: https://pandas.pydata.org/pandas-docs/stable/user_guide/indexing.html#returning-a-view-versus-a-copy\n",
      "  if __name__ == '__main__':\n",
      "/Users/Howard/opt/anaconda3/envs/PythonData/lib/python3.6/site-packages/ipykernel_launcher.py:6: SettingWithCopyWarning: \n",
      "A value is trying to be set on a copy of a slice from a DataFrame\n",
      "\n",
      "See the caveats in the documentation: https://pandas.pydata.org/pandas-docs/stable/user_guide/indexing.html#returning-a-view-versus-a-copy\n",
      "  \n",
      "/Users/Howard/opt/anaconda3/envs/PythonData/lib/python3.6/site-packages/ipykernel_launcher.py:11: SettingWithCopyWarning: \n",
      "A value is trying to be set on a copy of a slice from a DataFrame\n",
      "\n",
      "See the caveats in the documentation: https://pandas.pydata.org/pandas-docs/stable/user_guide/indexing.html#returning-a-view-versus-a-copy\n",
      "  # This is added back by InteractiveShellApp.init_path()\n"
     ]
    },
    {
     "data": {
      "text/html": [
       "<div>\n",
       "<style scoped>\n",
       "    .dataframe tbody tr th:only-of-type {\n",
       "        vertical-align: middle;\n",
       "    }\n",
       "\n",
       "    .dataframe tbody tr th {\n",
       "        vertical-align: top;\n",
       "    }\n",
       "\n",
       "    .dataframe thead th {\n",
       "        text-align: right;\n",
       "    }\n",
       "</style>\n",
       "<table border=\"1\" class=\"dataframe\">\n",
       "  <thead>\n",
       "    <tr style=\"text-align: right;\">\n",
       "      <th></th>\n",
       "      <th>School ID</th>\n",
       "      <th>School Name</th>\n",
       "      <th>School State</th>\n",
       "      <th>Degree Desc</th>\n",
       "      <th>Degree Type</th>\n",
       "      <th>Program Cost</th>\n",
       "      <th>Annual Cost</th>\n",
       "      <th>Total Cost</th>\n",
       "      <th>Degree Name</th>\n",
       "    </tr>\n",
       "  </thead>\n",
       "  <tbody>\n",
       "    <tr>\n",
       "      <th>0</th>\n",
       "      <td>449506</td>\n",
       "      <td>SABER College</td>\n",
       "      <td>FL</td>\n",
       "      <td>Associate’s Degrees</td>\n",
       "      <td>2</td>\n",
       "      <td>19233.0</td>\n",
       "      <td>NaN</td>\n",
       "      <td>19233</td>\n",
       "      <td></td>\n",
       "    </tr>\n",
       "    <tr>\n",
       "      <th>1</th>\n",
       "      <td>459310</td>\n",
       "      <td>Future-Tech Institute</td>\n",
       "      <td>FL</td>\n",
       "      <td>Undergraduate Certificates or Diplomas</td>\n",
       "      <td>1</td>\n",
       "      <td>NaN</td>\n",
       "      <td>11429.0</td>\n",
       "      <td>11429</td>\n",
       "      <td></td>\n",
       "    </tr>\n",
       "    <tr>\n",
       "      <th>2</th>\n",
       "      <td>459329</td>\n",
       "      <td>Fred K Marchman Technical College</td>\n",
       "      <td>FL</td>\n",
       "      <td>Undergraduate Certificates or Diplomas</td>\n",
       "      <td>1</td>\n",
       "      <td>8557.0</td>\n",
       "      <td>NaN</td>\n",
       "      <td>8557</td>\n",
       "      <td></td>\n",
       "    </tr>\n",
       "    <tr>\n",
       "      <th>3</th>\n",
       "      <td>482459</td>\n",
       "      <td>DeVry University-Florida</td>\n",
       "      <td>FL</td>\n",
       "      <td>Bachelor’s Degrees</td>\n",
       "      <td>3</td>\n",
       "      <td>NaN</td>\n",
       "      <td>31391.0</td>\n",
       "      <td>125564</td>\n",
       "      <td></td>\n",
       "    </tr>\n",
       "    <tr>\n",
       "      <th>4</th>\n",
       "      <td>487393</td>\n",
       "      <td>Florida Career College-West Palm Beach</td>\n",
       "      <td>FL</td>\n",
       "      <td>Undergraduate Certificates or Diplomas</td>\n",
       "      <td>1</td>\n",
       "      <td>34445.0</td>\n",
       "      <td>NaN</td>\n",
       "      <td>34445</td>\n",
       "      <td></td>\n",
       "    </tr>\n",
       "  </tbody>\n",
       "</table>\n",
       "</div>"
      ],
      "text/plain": [
       "   School ID                             School Name School State  \\\n",
       "0     449506                           SABER College           FL   \n",
       "1     459310                   Future-Tech Institute           FL   \n",
       "2     459329       Fred K Marchman Technical College           FL   \n",
       "3     482459                DeVry University-Florida           FL   \n",
       "4     487393  Florida Career College-West Palm Beach           FL   \n",
       "\n",
       "                              Degree Desc  Degree Type  Program Cost  \\\n",
       "0                     Associate’s Degrees            2       19233.0   \n",
       "1  Undergraduate Certificates or Diplomas            1           NaN   \n",
       "2  Undergraduate Certificates or Diplomas            1        8557.0   \n",
       "3                      Bachelor’s Degrees            3           NaN   \n",
       "4  Undergraduate Certificates or Diplomas            1       34445.0   \n",
       "\n",
       "   Annual Cost  Total Cost Degree Name  \n",
       "0          NaN       19233              \n",
       "1      11429.0       11429              \n",
       "2          NaN        8557              \n",
       "3      31391.0      125564              \n",
       "4          NaN       34445              "
      ]
     },
     "execution_count": 85,
     "metadata": {},
     "output_type": "execute_result"
    }
   ],
   "source": [
    "# change 1st column name to school id\n",
    "df = df.rename(columns= {'Unnamed: 0': 'School ID'})\n",
    "\n",
    "for row in df.index:\n",
    "    if df['Degree Type'][row] == 1:\n",
    "        df['Degree Desc'][row] = 'Undergraduate Certificates or Diplomas'\n",
    "        \n",
    "    elif df['Degree Type'][row] == 2:\n",
    "        df['Degree Desc'][row] = \"Associate’s Degrees\"\n",
    "    else:\n",
    "        df['Degree Desc'][row] = \"Bachelor’s Degrees\"\n",
    "df.head()        "
   ]
  },
  {
   "cell_type": "code",
   "execution_count": 8,
   "metadata": {},
   "outputs": [
    {
     "data": {
      "text/html": [
       "<div>\n",
       "<style scoped>\n",
       "    .dataframe tbody tr th:only-of-type {\n",
       "        vertical-align: middle;\n",
       "    }\n",
       "\n",
       "    .dataframe tbody tr th {\n",
       "        vertical-align: top;\n",
       "    }\n",
       "\n",
       "    .dataframe thead th {\n",
       "        text-align: right;\n",
       "    }\n",
       "</style>\n",
       "<table border=\"1\" class=\"dataframe\">\n",
       "  <thead>\n",
       "    <tr style=\"text-align: right;\">\n",
       "      <th></th>\n",
       "      <th>School ID</th>\n",
       "      <th>Degree Type</th>\n",
       "      <th>Program Cost</th>\n",
       "      <th>Annual Cost</th>\n",
       "      <th>Total Cost</th>\n",
       "    </tr>\n",
       "  </thead>\n",
       "  <tbody>\n",
       "    <tr>\n",
       "      <th>count</th>\n",
       "      <td>198.000000</td>\n",
       "      <td>198.000000</td>\n",
       "      <td>82.000000</td>\n",
       "      <td>116.000000</td>\n",
       "      <td>198.000000</td>\n",
       "    </tr>\n",
       "    <tr>\n",
       "      <th>mean</th>\n",
       "      <td>284844.247475</td>\n",
       "      <td>1.782828</td>\n",
       "      <td>20471.670732</td>\n",
       "      <td>25557.681034</td>\n",
       "      <td>54301.873737</td>\n",
       "    </tr>\n",
       "    <tr>\n",
       "      <th>std</th>\n",
       "      <td>158033.837603</td>\n",
       "      <td>0.847994</td>\n",
       "      <td>8365.901042</td>\n",
       "      <td>13347.006844</td>\n",
       "      <td>57139.163327</td>\n",
       "    </tr>\n",
       "    <tr>\n",
       "      <th>min</th>\n",
       "      <td>132374.000000</td>\n",
       "      <td>1.000000</td>\n",
       "      <td>5420.000000</td>\n",
       "      <td>6419.000000</td>\n",
       "      <td>5420.000000</td>\n",
       "    </tr>\n",
       "    <tr>\n",
       "      <th>25%</th>\n",
       "      <td>135318.250000</td>\n",
       "      <td>1.000000</td>\n",
       "      <td>13752.000000</td>\n",
       "      <td>15699.500000</td>\n",
       "      <td>18881.000000</td>\n",
       "    </tr>\n",
       "    <tr>\n",
       "      <th>50%</th>\n",
       "      <td>138363.000000</td>\n",
       "      <td>2.000000</td>\n",
       "      <td>19981.000000</td>\n",
       "      <td>23917.000000</td>\n",
       "      <td>27351.500000</td>\n",
       "    </tr>\n",
       "    <tr>\n",
       "      <th>75%</th>\n",
       "      <td>449519.500000</td>\n",
       "      <td>3.000000</td>\n",
       "      <td>26335.750000</td>\n",
       "      <td>31438.000000</td>\n",
       "      <td>75889.000000</td>\n",
       "    </tr>\n",
       "    <tr>\n",
       "      <th>max</th>\n",
       "      <td>490975.000000</td>\n",
       "      <td>3.000000</td>\n",
       "      <td>36378.000000</td>\n",
       "      <td>65487.000000</td>\n",
       "      <td>261948.000000</td>\n",
       "    </tr>\n",
       "  </tbody>\n",
       "</table>\n",
       "</div>"
      ],
      "text/plain": [
       "           School ID  Degree Type  Program Cost   Annual Cost     Total Cost\n",
       "count     198.000000   198.000000     82.000000    116.000000     198.000000\n",
       "mean   284844.247475     1.782828  20471.670732  25557.681034   54301.873737\n",
       "std    158033.837603     0.847994   8365.901042  13347.006844   57139.163327\n",
       "min    132374.000000     1.000000   5420.000000   6419.000000    5420.000000\n",
       "25%    135318.250000     1.000000  13752.000000  15699.500000   18881.000000\n",
       "50%    138363.000000     2.000000  19981.000000  23917.000000   27351.500000\n",
       "75%    449519.500000     3.000000  26335.750000  31438.000000   75889.000000\n",
       "max    490975.000000     3.000000  36378.000000  65487.000000  261948.000000"
      ]
     },
     "execution_count": 8,
     "metadata": {},
     "output_type": "execute_result"
    }
   ],
   "source": [
    "df.describe()"
   ]
  },
  {
   "cell_type": "code",
   "execution_count": 9,
   "metadata": {},
   "outputs": [
    {
     "data": {
      "text/plain": [
       "School ID       198\n",
       "School Name     198\n",
       "School State    198\n",
       "Degree Type     198\n",
       "Program Cost     82\n",
       "Annual Cost     116\n",
       "Total Cost      198\n",
       "dtype: int64"
      ]
     },
     "execution_count": 9,
     "metadata": {},
     "output_type": "execute_result"
    }
   ],
   "source": [
    "# Identify incomplete rows\n",
    "df.count()"
   ]
  },
  {
   "cell_type": "code",
   "execution_count": 13,
   "metadata": {},
   "outputs": [
    {
     "data": {
      "text/plain": [
       "School ID         int64\n",
       "School Name      object\n",
       "School State     object\n",
       "Degree Type       int64\n",
       "Program Cost    float64\n",
       "Annual Cost     float64\n",
       "Total Cost        int64\n",
       "dtype: object"
      ]
     },
     "execution_count": 13,
     "metadata": {},
     "output_type": "execute_result"
    }
   ],
   "source": [
    "# Identify data types for each element\n",
    "df.dtypes"
   ]
  },
  {
   "cell_type": "code",
   "execution_count": 61,
   "metadata": {},
   "outputs": [
    {
     "data": {
      "image/png": "[encoded data removed]",
      "text/plain": [
       "<Figure size 432x288 with 1 Axes>"
      ]
     },
     "metadata": {},
     "output_type": "display_data"
    }
   ],
   "source": [
    "count\n",
    "labels = 'Undergraduate Certificates or Diplomas','Bachelor’s Degrees','Associate’s Degrees'\n",
    "sizes = count\n",
    "fig1, ax1 = plt.subplots()\n",
    "ax1.pie(sizes, labels=labels, autopct='%1.1f%%')\n",
    "ax1.set(title='Distribution of Degree Types Offered')\n",
    "plt.show()"
   ]
  },
  {
   "cell_type": "code",
   "execution_count": 98,
   "metadata": {},
   "outputs": [
    {
     "data": {
      "text/plain": [
       "Degree Desc\n",
       "Associate’s Degrees                        32621.234043\n",
       "Bachelor’s Degrees                        132767.111111\n",
       "Undergraduate Certificates or Diplomas     21125.247423\n",
       "Name: Total Cost, dtype: float64"
      ]
     },
     "execution_count": 98,
     "metadata": {},
     "output_type": "execute_result"
    }
   ],
   "source": [
    "med_cost = df.groupby(['Degree Desc'])['Total Cost'].median()\n",
    "avg_cost = df.groupby(['Degree Desc'])['Total Cost'].mean()\n",
    "avg_cost"
   ]
  },
  {
   "cell_type": "code",
   "execution_count": 92,
   "metadata": {},
   "outputs": [
    {
     "data": {
      "image/png": "[encoded data removed]",
      "text/plain": [
       "<Figure size 432x288 with 1 Axes>"
      ]
     },
     "metadata": {
      "needs_background": "light"
     },
     "output_type": "display_data"
    }
   ],
   "source": [
    "summary_df =df.groupby(['Degree Desc'])['Total Cost'].agg(['mean','median','min','max'])\n",
    "summary_df.plot.bar(title='Statistical Analysis by Degree Type')\n",
    "plt.xticks(rotation='horizontal')\n",
    "plt.show()"
   ]
  },
  {
   "cell_type": "code",
   "execution_count": 101,
   "metadata": {
    "scrolled": false
   },
   "outputs": [
    {
     "data": {
      "text/plain": [
       "<pandas.plotting._core.PlotAccessor object at 0x7fcb9f4acac8>"
      ]
     },
     "execution_count": 101,
     "metadata": {},
     "output_type": "execute_result"
    },
    {
     "data": {
      "image/png": "[encoded data removed]",
      "text/plain": [
       "<Figure size 432x288 with 1 Axes>"
      ]
     },
     "metadata": {
      "needs_background": "light"
     },
     "output_type": "display_data"
    }
   ],
   "source": [
    "avg_cost.plot(kind='bar', title='Average Total Cost by Degree Type')\n",
    "plt.xticks(rotation=20)\n",
    "avg_cost.plot"
   ]
  },
  {
   "cell_type": "code",
   "execution_count": 97,
   "metadata": {
    "scrolled": true
   },
   "outputs": [
    {
     "data": {
      "image/png": "[encoded data removed]",
      "text/plain": [
       "<Figure size 432x288 with 1 Axes>"
      ]
     },
     "metadata": {
      "needs_background": "light"
     },
     "output_type": "display_data"
    }
   ],
   "source": [
    "med_cost.plot(kind='bar', title='Median Total Cost by Degree Type')\n",
    "plt.xticks(rotation=35)\n",
    "plt.show()"
   ]
  },
  {
   "cell_type": "code",
   "execution_count": null,
   "metadata": {},
   "outputs": [],
   "source": []
  }
 ],
 "metadata": {
  "kernelspec": {
   "display_name": "Python 3",
   "language": "python",
   "name": "python3"
  },
  "language_info": {
   "codemirror_mode": {
    "name": "ipython",
    "version": 3
   },
   "file_extension": ".py",
   "mimetype": "text/x-python",
   "name": "python",
   "nbconvert_exporter": "python",
   "pygments_lexer": "ipython3",
   "version": "3.6.10"
  }
 },
 "nbformat": 4,
 "nbformat_minor": 4
}
