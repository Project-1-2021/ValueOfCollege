{
 "cells": [
  {
   "cell_type": "code",
   "execution_count": 1,
   "metadata": {},
   "outputs": [],
   "source": [
    "# Import modules\n",
    "import json\n",
    "import requests\n",
    "from config import token\n",
    "from config import userId"
   ]
  },
  {
   "cell_type": "markdown",
   "metadata": {},
   "source": [
    "# Career One Stop API Calls"
   ]
  },
  {
   "cell_type": "code",
   "execution_count": 2,
   "metadata": {},
   "outputs": [],
   "source": [
    "# Configure Header\n",
    "headers = {'Authorization': f'Bearer {token}'}"
   ]
  },
  {
   "cell_type": "markdown",
   "metadata": {},
   "source": [
    "## Step 1: Get list of occupations"
   ]
  },
  {
   "cell_type": "code",
   "execution_count": 3,
   "metadata": {},
   "outputs": [],
   "source": [
    "keyword = '15-'\n",
    "dataLevelOnly = 'N'\n",
    "startRecord = 0\n",
    "limitRecord = 1000\n",
    "\n",
    "api_url = f'https://api.careeronestop.org/v1/occupation/{userId}/{keyword}/{dataLevelOnly}/{startRecord}/{limitRecord}?'\n",
    "response = requests.get(api_url, headers=headers).json()"
   ]
  },
  {
   "cell_type": "code",
   "execution_count": 4,
   "metadata": {},
   "outputs": [],
   "source": [
    "occupation_ls = []\n",
    "for x in response['OccupationList']:\n",
    "    occupation_ls.append(x['OnetCode'])\n",
    "# occupation_ls"
   ]
  },
  {
   "cell_type": "markdown",
   "metadata": {},
   "source": [
    "## Step 2: Get Occupation Wages & Education"
   ]
  },
  {
   "cell_type": "code",
   "execution_count": 5,
   "metadata": {},
   "outputs": [
    {
     "data": {
      "text/plain": [
       "\"Associate's degree\""
      ]
     },
     "execution_count": 5,
     "metadata": {},
     "output_type": "execute_result"
    }
   ],
   "source": [
    "keyword = occupation_ls[0]\n",
    "location = 'FL'\n",
    "params = {'wages': 'true'\n",
    "         ,'training': 'true'\n",
    "         }\n",
    "api_url = f'https://api.careeronestop.org/v1/occupation/{userId}/{keyword}/{location}?'\n",
    "response = requests.get(api_url, headers=headers, params=params).json()\n",
    "wages = response['OccupationDetail'][0]['Wages']['StateWagesList']\n",
    "response['OccupationDetail'][0]['EducationTraining']['EducationTitle']"
   ]
  },
  {
   "cell_type": "code",
   "execution_count": null,
   "metadata": {},
   "outputs": [],
   "source": []
  }
 ],
 "metadata": {
  "kernelspec": {
   "display_name": "Python 3",
   "language": "python",
   "name": "python3"
  },
  "language_info": {
   "codemirror_mode": {
    "name": "ipython",
    "version": 3
   },
   "file_extension": ".py",
   "mimetype": "text/x-python",
   "name": "python",
   "nbconvert_exporter": "python",
   "pygments_lexer": "ipython3",
   "version": "3.8.3"
  }
 },
 "nbformat": 4,
 "nbformat_minor": 4
}
