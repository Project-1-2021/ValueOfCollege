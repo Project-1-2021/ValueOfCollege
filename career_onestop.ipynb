{
 "cells": [
  {
   "cell_type": "code",
   "execution_count": 1,
   "metadata": {},
   "outputs": [],
   "source": [
    "import json\n",
    "import requests\n",
    "from config import cos_token\n",
    "from config import userId"
   ]
  },
  {
   "cell_type": "code",
   "execution_count": 3,
   "metadata": {},
   "outputs": [
    {
     "data": {
      "text/plain": [
       "{'OccupationDetail': [{'OnetTitle': 'Registered Nurses',\n",
       "   'OnetCode': '29-1141.00',\n",
       "   'OnetDescription': 'Assess patient health problems and needs, develop and implement nursing care plans, and maintain medical records. Administer nursing care to ill, injured, convalescent, or disabled patients. May advise patients on health maintenance and disease prevention or provide case management. Licensing or registration required.',\n",
       "   'BrightOutlook': 'Bright',\n",
       "   'Green': 'No',\n",
       "   'COSVideoURL': 'https://www.careeronestop.org/Videos/careeronestop-videos.aspx?videocode=29114100&op=y',\n",
       "   'BrightOutlookCategory': 'Rapid Growth; Numerous Job Openings',\n",
       "   'AlternateTitles': None,\n",
       "   'StFips': '00',\n",
       "   'Location': 'US',\n",
       "   'SocInfo': {'SocCode': '291141',\n",
       "    'SocTitle': 'Registered Nurses',\n",
       "    'SocDescription': 'Assess patient health problems and needs, develop and implement nursing care plans, and maintain medical records. Administer nursing care to ill, injured, convalescent, or disabled patients. May advise patients on health maintenance and disease prevention or provide case management. Licensing or registration required. Includes Clinical Nurse Specialists.'},\n",
       "   'RelatedOnetTitles': None,\n",
       "   'TrainingPrograms': None}],\n",
       " 'RecordCount': 1,\n",
       " 'DidYouMean': '',\n",
       " 'AutoCorrection': ''}"
      ]
     },
     "execution_count": 3,
     "metadata": {},
     "output_type": "execute_result"
    }
   ],
   "source": [
    "# API params\n",
    "keyword = 'Registered Nurses'\n",
    "location = 'US'\n",
    "headers = {'Authorization' : f'Bearer {cos_token}'}\n",
    "base_url = f'https://api.careeronestop.org/v1/occupation/{userId}/{keyword}/{location}?'\n",
    "response = requests.get(base_url, headers=headers).json()\n",
    "response"
   ]
  },
  {
   "cell_type": "code",
   "execution_count": null,
   "metadata": {},
   "outputs": [],
   "source": [
    "url = f'https://api.careeronestop.org/v1/skillgap/{userId}/{onetCodeSource}/{onetCodeTarget}/{location}/{radius}'\n",
    "onetCodeSource = 15-0000"
   ]
  },
  {
   "cell_type": "code",
   "execution_count": null,
   "metadata": {},
   "outputs": [],
   "source": []
  },
  {
   "cell_type": "code",
   "execution_count": null,
   "metadata": {},
   "outputs": [],
   "source": []
  },
  {
   "cell_type": "code",
   "execution_count": null,
   "metadata": {},
   "outputs": [],
   "source": []
  },
  {
   "cell_type": "code",
   "execution_count": null,
   "metadata": {},
   "outputs": [],
   "source": []
  },
  {
   "cell_type": "code",
   "execution_count": null,
   "metadata": {},
   "outputs": [],
   "source": []
  },
  {
   "cell_type": "code",
   "execution_count": null,
   "metadata": {},
   "outputs": [],
   "source": []
  },
  {
   "cell_type": "code",
   "execution_count": null,
   "metadata": {},
   "outputs": [],
   "source": []
  }
 ],
 "metadata": {
  "kernelspec": {
   "display_name": "Python 3",
   "language": "python",
   "name": "python3"
  },
  "language_info": {
   "codemirror_mode": {
    "name": "ipython",
    "version": 3
   },
   "file_extension": ".py",
   "mimetype": "text/x-python",
   "name": "python",
   "nbconvert_exporter": "python",
   "pygments_lexer": "ipython3",
   "version": "3.6.10"
  }
 },
 "nbformat": 4,
 "nbformat_minor": 4
}
