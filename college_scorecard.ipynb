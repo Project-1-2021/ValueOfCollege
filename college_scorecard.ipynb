{
 "cells": [
  {
   "cell_type": "code",
   "execution_count": 1,
   "metadata": {},
   "outputs": [],
   "source": [
    "import json\n",
    "import requests\n",
    "from config import api_key"
   ]
  },
  {
   "cell_type": "code",
   "execution_count": 2,
   "metadata": {},
   "outputs": [],
   "source": [
    "# Basic structure of API call:\n",
    "# year.dev-category.dev-friendly-variable-name."
   ]
  },
  {
   "cell_type": "code",
   "execution_count": 3,
   "metadata": {},
   "outputs": [],
   "source": [
    "# Params\n",
    "year = 2018 \n",
    "state = 'FL'\n",
    "predom_type = 2,3\n",
    "# Grab the base url\n",
    "url = f\"http://api.data.gov/ed/collegescorecard/v1/schools.json?/school.degrees_awarded.predominant=2&fields=id,school.name/{year}/{state}/api_key={api_key}\"\n",
    "response = requests.get(url).json()"
   ]
  },
  {
   "cell_type": "markdown",
   "metadata": {},
   "source": [
    "#specifying areas of studies\n",
    "    1: Undergraduate Certificates or Diplomas\n",
    "    2: Associate’s Degrees\n",
    "    3: Bachelor’s Degrees\n",
    "    4: Post-Baccalaureate Certificates\n",
    "    5: Master’s Degrees\n",
    "    6: Doctoral Degrees\n",
    "    7: First Professional Degrees\n",
    "    8: Graduate / Professional Certificates"
   ]
  },
  {
   "cell_type": "code",
   "execution_count": 5,
   "metadata": {},
   "outputs": [],
   "source": [
    "# https://api.data.gov/ed/collegescorecard/v1/schools.json?school.degrees_awarded.predominant=2,3&fields=id,school.name,2013.student.size\n"
   ]
  },
  {
   "cell_type": "code",
   "execution_count": 14,
   "metadata": {},
   "outputs": [
    {
     "data": {
      "text/plain": [
       "{'metadata': {'total': 3203, 'page': 0, 'per_page': 20},\n",
       " 'results': [{'school.name': 'Platt College-Miller-Motte Technical-Columbus',\n",
       "   'id': 458441,\n",
       "   '2018.cost.attendance.academic_year': None},\n",
       "  {'school.name': 'Bryant & Stratton College-Hampton',\n",
       "   'id': 459107,\n",
       "   '2018.cost.attendance.academic_year': 22982},\n",
       "  {'school.name': 'Fortis College-Salt Lake City',\n",
       "   'id': 456454,\n",
       "   '2018.cost.attendance.academic_year': 27717},\n",
       "  {'school.name': 'Ambria College of Nursing',\n",
       "   'id': 457527,\n",
       "   '2018.cost.attendance.academic_year': None},\n",
       "  {'school.name': 'Houston International College Cardiotech Ultrasound School',\n",
       "   'id': 458034,\n",
       "   '2018.cost.attendance.academic_year': 33657},\n",
       "  {'school.name': 'Moreno Valley College',\n",
       "   'id': 460394,\n",
       "   '2018.cost.attendance.academic_year': 12395},\n",
       "  {'school.name': 'Norco College',\n",
       "   'id': 460464,\n",
       "   '2018.cost.attendance.academic_year': 12031},\n",
       "  {'school.name': 'Rasmussen College-Kansas',\n",
       "   'id': 480657,\n",
       "   '2018.cost.attendance.academic_year': 22183},\n",
       "  {'school.name': 'College of the Muscogee Nation',\n",
       "   'id': 480967,\n",
       "   '2018.cost.attendance.academic_year': 23204},\n",
       "  {'school.name': 'National American University-Richardson',\n",
       "   'id': 482334,\n",
       "   '2018.cost.attendance.academic_year': None},\n",
       "  {'school.name': 'Clovis Community College',\n",
       "   'id': 489201,\n",
       "   '2018.cost.attendance.academic_year': 8982},\n",
       "  {'school.name': 'Valor Christian College',\n",
       "   'id': 486257,\n",
       "   '2018.cost.attendance.academic_year': 15016},\n",
       "  {'school.name': 'Sunstate Academy-Jones Technical Institute',\n",
       "   'id': 487311,\n",
       "   '2018.cost.attendance.academic_year': 21785},\n",
       "  {'school.name': 'Sonoran Desert Institute',\n",
       "   'id': 488077,\n",
       "   '2018.cost.attendance.academic_year': 18007},\n",
       "  {'school.name': 'Abraham Lincoln University',\n",
       "   'id': 488031,\n",
       "   '2018.cost.attendance.academic_year': None},\n",
       "  {'school.name': 'Unilatina International College',\n",
       "   'id': 486354,\n",
       "   '2018.cost.attendance.academic_year': None},\n",
       "  {'school.name': 'Wave Leadership College',\n",
       "   'id': 486594,\n",
       "   '2018.cost.attendance.academic_year': 14523},\n",
       "  {'school.name': 'Yeshiva Gedola Tiferes Yerachmiel',\n",
       "   'id': 491914,\n",
       "   '2018.cost.attendance.academic_year': None},\n",
       "  {'school.name': 'Red Lake Nation College',\n",
       "   'id': 491844,\n",
       "   '2018.cost.attendance.academic_year': None},\n",
       "  {'school.name': 'WellSpring School of Allied Health-Springfield',\n",
       "   'id': 493451,\n",
       "   '2018.cost.attendance.academic_year': None}]}"
      ]
     },
     "execution_count": 14,
     "metadata": {},
     "output_type": "execute_result"
    }
   ],
   "source": [
    "\n",
    "# url_2 = f\"https://api.data.gov/ed/collegescorecard/v1/schools.json?school.degrees_awarded.predominant={predom_type}.school.state={state}&fields=id,school.name,school.city,school.state,{year}.cost.attendance.academic_year,{year}.cost.avg_net_price.public,{year}.cost.tuition.in_state&api_key={api_key}\"\n",
    "\n",
    "# responses = requests.get(url_2).json()\n",
    "# responses\n",
    "url_3 = f\"https://api.data.gov/ed/collegescorecard/v1/schools.json?school.degrees_awarded.predominant=2,3&fields=id,school.state={state}&fields=id,school.name,{year}.cost.attendance.academic_year&api_key={api_key}\"\n",
    "response_1 = requests.get(url_3).json()\n",
    "response_1"
   ]
  },
  {
   "cell_type": "code",
   "execution_count": null,
   "metadata": {},
   "outputs": [],
   "source": []
  },
  {
   "cell_type": "code",
   "execution_count": null,
   "metadata": {},
   "outputs": [],
   "source": []
  }
 ],
 "metadata": {
  "kernelspec": {
   "display_name": "Python 3",
   "language": "python",
   "name": "python3"
  },
  "language_info": {
   "codemirror_mode": {
    "name": "ipython",
    "version": 3
   },
   "file_extension": ".py",
   "mimetype": "text/x-python",
   "name": "python",
   "nbconvert_exporter": "python",
   "pygments_lexer": "ipython3",
   "version": "3.6.10"
  }
 },
 "nbformat": 4,
 "nbformat_minor": 4
}
